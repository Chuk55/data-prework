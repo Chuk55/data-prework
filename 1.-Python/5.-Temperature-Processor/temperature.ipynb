{
 "cells": [
  {
   "cell_type": "markdown",
   "metadata": {},
   "source": [
    "<img src=\"https://bit.ly/2VnXWr2\" width=\"100\" align=\"left\">"
   ]
  },
  {
   "cell_type": "markdown",
   "metadata": {},
   "source": [
    "# Temperature Sensor\n",
    "\n",
    "There is a temperature sensor in the processor of your company's server. The company wants to analyze the data provided by the sensor to decide if they should change the cooling system for a better one. As changing the cooling system is expensive and you are an excellent data analyst, you can't make a decision without basis.\n",
    "\n",
    "## Tools\n",
    "You don't necessarily need to use all the tools. Maybe you opt to use some of them or completely different ones, they are given to help you shape the exercise. Programming exercises can be solved in many different ways.\n",
    "1. Data structures: **lists**\n",
    "2. Loops: **list comprehension**\n",
    "3. Functions: **min, max, print, len**\n",
    "4. Conditional statements: **if-elif-else**\n",
    "\n",
    "## Tasks\n",
    "The temperatures measured throughout the 24 hours of a day are:"
   ]
  },
  {
   "cell_type": "code",
   "execution_count": 1,
   "metadata": {},
   "outputs": [],
   "source": [
    "temperatures_C = [33, 66, 65, 0, 59, 60, 62, 64, 70, 76, 80, 81, 80, 83, 90, 79, 61, 53, 50, 49, 53, 48, 45, 39]"
   ]
  },
  {
   "cell_type": "markdown",
   "metadata": {},
   "source": [
    "The first element of the list is the temperature at 12am, the second element is the temperature at 1am, and so on. \n",
    "\n",
    "The company has decided that if one of the following events occurs, then the cooling system needs to be replaced for a new one to avoid damaging the processor.\n",
    "* More than 4 temperatures are greater than or equal to 70ºC.\n",
    "* Any temperature is above 80ºC.\n",
    "* The average temperature exceeds 65ºC.\n",
    "\n",
    "Follow the steps so that you can make the decision.\n",
    "\n",
    "#### 1. Find the minimum temperature of the day and store it in a variable."
   ]
  },
  {
   "cell_type": "code",
   "execution_count": 2,
   "metadata": {},
   "outputs": [],
   "source": [
    "min_temp= min(temperatures_C)\n",
    "print(\"Minimum temperature is:\" ,min_temp, \"°C\")"
   ]
  },
  {
   "cell_type": "markdown",
   "metadata": {},
   "source": [
    "#### 2. Find the maximum temperature of the day and store it in a variable."
   ]
  },
  {
   "cell_type": "code",
   "execution_count": 3,
   "metadata": {},
   "outputs": [
    {
     "name": "stdout",
     "output_type": "stream",
     "text": [
      "Maximum temperature is: 90 °C\n"
     ]
    }
   ],
   "source": [
    "max_temp= max(temperatures_C)\n",
    "print(\"Maximum temperature is:\" ,max_temp, \"°C\")"
   ]
  },
  {
   "cell_type": "markdown",
   "metadata": {},
   "source": [
    "#### 3. Create a list with the temperatures that are greater than or equal to 70ºC. Store it in a variable."
   ]
  },
  {
   "cell_type": "code",
   "execution_count": 4,
   "metadata": {},
   "outputs": [
    {
     "name": "stdout",
     "output_type": "stream",
     "text": [
      "the list temperatures that >= 70°C: [70, 76, 80, 81, 80, 83, 90, 79]\n"
     ]
    }
   ],
   "source": [
    "list70 = []\n",
    "for t in temperatures_C:\n",
    "    if t >= 70 :\n",
    "        list70.append(t)\n",
    "print(\"the list temperatures that >= 70°C:\", list70)"
   ]
  },
  {
   "cell_type": "markdown",
   "metadata": {},
   "source": [
    "#### 4. Find the average temperature of the day and store it in a variable."
   ]
  },
  {
   "cell_type": "code",
   "execution_count": 5,
   "metadata": {},
   "outputs": [
    {
     "name": "stdout",
     "output_type": "stream",
     "text": [
      "The average temperature of the day is: 60.25 °C\n"
     ]
    }
   ],
   "source": [
    "from numpy import mean\n",
    "avg_temp = mean(temperatures_C)\n",
    "print(\"The average temperature of the day is:\",avg_temp, \"°C\")"
   ]
  },
  {
   "cell_type": "markdown",
   "metadata": {},
   "source": [
    "#### 5. Imagine that there was a sensor failure at 3am and the data for that specific hour was not recorded. How would you estimate the missing value? Replace the current value of the list at 3am for an estimation. "
   ]
  },
  {
   "cell_type": "code",
   "execution_count": 6,
   "metadata": {},
   "outputs": [
    {
     "name": "stdout",
     "output_type": "stream",
     "text": [
      "[[33.]\n",
      " [66.]\n",
      " [65.]\n",
      " [62.]\n",
      " [59.]\n",
      " [60.]\n",
      " [62.]\n",
      " [64.]\n",
      " [70.]\n",
      " [76.]\n",
      " [80.]\n",
      " [81.]\n",
      " [80.]\n",
      " [83.]\n",
      " [90.]\n",
      " [79.]\n",
      " [61.]\n",
      " [53.]\n",
      " [50.]\n",
      " [49.]\n",
      " [53.]\n",
      " [48.]\n",
      " [45.]\n",
      " [39.]]\n"
     ]
    }
   ],
   "source": [
    "import numpy as np\n",
    "from sklearn.impute import SimpleImputer\n",
    "\n",
    "impute = SimpleImputer(missing_values=np.nan, strategy='median')\n",
    "#imp = imp.fit([33, 66, 65, np.nan, 59, 60, 62, 64, 70, 76, 80, 81, 80, 83, 90, 79, 61, 53, 50, 49, 53, 48, 45, 39])\n",
    "\n",
    "X = [33, 66, 65, np.nan, 59, 60, 62, 64, 70, 76, 80, 81, 80, 83, 90, 79, 61, 53, 50, 49, 53, 48, 45, 39]\n",
    "X = np.array(X).reshape(-1,1)\n",
    "impute.fit(X)\n",
    "X = impute.transform(X)\n",
    "print(X)"
   ]
  },
  {
   "cell_type": "markdown",
   "metadata": {},
   "source": [
    "#### 6. Bonus: the maintenance staff is from the United States and does not understand the international metric system. Help them by converting the temperatures from Celsius to Fahrenheit.\n",
    "To know more about temperature conversion check this [link](https://en.wikipedia.org/wiki/Conversion_of_units_of_temperature).\n",
    "\n",
    "**Formula**: \n",
    "\n",
    "$F = 1.8 * C + 32$"
   ]
  },
  {
   "cell_type": "code",
   "execution_count": 7,
   "metadata": {},
   "outputs": [
    {
     "name": "stdout",
     "output_type": "stream",
     "text": [
      "Temperature in °F\n",
      " [[ 91.4]\n",
      " [150.8]\n",
      " [149. ]\n",
      " [143.6]\n",
      " [138.2]\n",
      " [140. ]\n",
      " [143.6]\n",
      " [147.2]\n",
      " [158. ]\n",
      " [168.8]\n",
      " [176. ]\n",
      " [177.8]\n",
      " [176. ]\n",
      " [181.4]\n",
      " [194. ]\n",
      " [174.2]\n",
      " [141.8]\n",
      " [127.4]\n",
      " [122. ]\n",
      " [120.2]\n",
      " [127.4]\n",
      " [118.4]\n",
      " [113. ]\n",
      " [102.2]]\n"
     ]
    }
   ],
   "source": [
    "F = 1.8 *X + 32\n",
    "print(\"Temperature in °F\\n\",F)"
   ]
  },
  {
   "cell_type": "markdown",
   "metadata": {},
   "source": [
    "#### 7. Make a decision!\n",
    "Now it's time to make a decision taking into account what you have seen until now. \n",
    "\n",
    "Remember that if one of the following events occurs, then the cooling system needs to be replaced for a new one to avoid damaging the processor.\n",
    "* More than 4 temperatures are greater than or equal to 70ºC.\n",
    "* Any temperature is above 80ºC.\n",
    "* The average temperature exceeds 65ºC.\n",
    "\n",
    "#### To make your decision, check if any of the three conditions above is met. You might need to use some of the variables you created in steps 1 to 6. Print a message to show if the cooling system needs to be changed or not."
   ]
  },
  {
   "cell_type": "code",
   "execution_count": 8,
   "metadata": {},
   "outputs": [
    {
     "name": "stdout",
     "output_type": "stream",
     "text": [
      "Change cooling system because temperature >80°C  [81.]\n",
      "Change cooling system because more than 4 temperature are greater than 70\n",
      "Change cooling system because temperature >80°C  [83.]\n",
      "Change cooling system because more than 4 temperature are greater than 70\n",
      "Change cooling system because temperature >80°C  [90.]\n",
      "Change cooling system because more than 4 temperature are greater than 70\n",
      "Change cooling system because more than 4 temperature are greater than 70\n"
     ]
    }
   ],
   "source": [
    "count = 0\n",
    "for temp in X:\n",
    "    if temp > 80:\n",
    "        print(\"Change cooling system because temperature >80°C \", temp)\n",
    "    if temp >= 70:\n",
    "        count +=1\n",
    "        #print(\"count\",count,temp,\"°C\")\n",
    "        if count > 4 :\n",
    "            print(\"Change cooling system because more than 4 temperature are greater than 70\")\n",
    "    if avg_temp > 65:\n",
    "        print(\"Change cooling system because average temperature exceed 65:\", avg_temp)"
   ]
  },
  {
   "cell_type": "markdown",
   "metadata": {},
   "source": [
    "## Bonus\n",
    "\n",
    "The company has decided that the decision you made is not valid. They want you to analyze the data again but this time, the conditions that need to be met in order to change the cooling system are different.\n",
    "\n",
    "This time, if one of the following events occurs, then the cooling system needs to be replaced:\n",
    "* The temperature is greater than 70ºC during more than 4 consecutive hours.\n",
    "* Any temperature is above 80ºC.\n",
    "* The average temperature exceeds 65ºC.\n",
    "\n",
    "Follow the steps so that you can make the decision.\n",
    "\n",
    "#### 1. Create a list with the hours where the temperature is greater than 70ºC. Store it in a variable."
   ]
  },
  {
   "cell_type": "code",
   "execution_count": 9,
   "metadata": {},
   "outputs": [
    {
     "name": "stdout",
     "output_type": "stream",
     "text": [
      "[9, 10, 11, 12, 13, 14, 15]\n",
      "[(9, 76), (10, 80), (11, 81), (12, 80), (13, 83), (14, 90), (15, 79)]\n"
     ]
    }
   ],
   "source": [
    "data_time_temp = [(0,33),(1,66),(2,65),(3,62),(4,59),(5,60),(6,62),(7,64),(8,70),(9,76),(10,80),(11,81),(12,80),(13,83),(14,90),(15,79),(16,61),(17,53),(18,50),(19,49),(20,53),(21,50),(22,49),(23,39)]\n",
    "l70 = []\n",
    "l70x =[]\n",
    "for x,y in data_time_temp:\n",
    "    if y > 70:\n",
    "        l70.append((x,y))\n",
    "        l70x.append(x)\n",
    "print(l70x)\n",
    "print(l70)"
   ]
  },
  {
   "cell_type": "markdown",
   "metadata": {},
   "source": [
    "#### 2. Check if the list you created in step 1 has more than 4 consecutive hours. "
   ]
  },
  {
   "cell_type": "code",
   "execution_count": 10,
   "metadata": {},
   "outputs": [
    {
     "name": "stdout",
     "output_type": "stream",
     "text": [
      "consecutive 4 hours\n",
      "Change cooling system because more than 4 temperature are greater than 70\n",
      "consecutive 5 hours\n",
      "Change cooling system because more than 4 temperature are greater than 70\n",
      "consecutive 6 hours\n",
      "Change cooling system because more than 4 temperature are greater than 70\n",
      "consecutive [7] hours\n"
     ]
    }
   ],
   "source": [
    "def count_consec(lst):\n",
    "    consec = [1]\n",
    "    count = 0\n",
    "    for x, y in zip(lst, lst[1:]):\n",
    "        #print(x,y)\n",
    "        if x == y - 1:\n",
    "            consec[-1] += 1\n",
    "            count +=1\n",
    "            if count >= 4:\n",
    "                print(\"consecutive\", count, \"hours\")\n",
    "                print(\"Change cooling system because more than 4 temperature are greater than 70\")\n",
    "\n",
    "        else:\n",
    "            consec.append(1)\n",
    "    return consec\n",
    "\n",
    "print(\"consecutive\", count_consec(l70x), \"hours\")\n"
   ]
  },
  {
   "cell_type": "markdown",
   "metadata": {},
   "source": [
    "#### 3. Make the decision!\n",
    "To make your decision, check if any of the three conditions is met. Print a message to show if the cooling system needs to be changed or not."
   ]
  },
  {
   "cell_type": "code",
   "execution_count": 11,
   "metadata": {},
   "outputs": [
    {
     "name": "stdout",
     "output_type": "stream",
     "text": [
      "Change cooling system because temperature >80°C  [81.]\n",
      "Change cooling system because more than 4 temperature are greater than 70\n",
      "Change cooling system because temperature >80°C  [83.]\n",
      "Change cooling system because more than 4 temperature are greater than 70\n",
      "Change cooling system because temperature >80°C  [90.]\n",
      "Change cooling system because more than 4 temperature are greater than 70\n",
      "Change cooling system because more than 4 temperature are greater than 70\n"
     ]
    }
   ],
   "source": [
    "count = 0\n",
    "for temp in X:\n",
    "    if temp > 80:\n",
    "        print(\"Change cooling system because temperature >80°C \", temp)\n",
    "    if temp >= 70:\n",
    "        count +=1\n",
    "        #print(\"count\",count,temp,\"°C\")\n",
    "        if count > 4:\n",
    "            print(\"Change cooling system because more than 4 temperature are greater than 70\")\n",
    "    if avg_temp > 65:\n",
    "        print(\"Change cooling system because average temperature exceed 65:\", avg_temp)"
   ]
  },
  {
   "cell_type": "markdown",
   "metadata": {},
   "source": [
    "#### 4. Find the average value of the temperature lists (ºC and ºF). What is the relation between both average values?"
   ]
  },
  {
   "cell_type": "code",
   "execution_count": 12,
   "metadata": {},
   "outputs": [
    {
     "name": "stdout",
     "output_type": "stream",
     "text": [
      "The average temperature of the day is: 62.833333333333336 °C\n",
      "The average temperature of the day is: 145.1 °F\n"
     ]
    }
   ],
   "source": [
    "from numpy import mean\n",
    "avg_temp = mean(X)\n",
    "print(\"The average temperature of the day is:\",avg_temp, \"°C\")\n",
    "avg_temp_F = mean(F)\n",
    "print(\"The average temperature of the day is:\",avg_temp_F, \"°F\")"
   ]
  },
  {
   "cell_type": "markdown",
   "metadata": {},
   "source": [
    "#### 5. Find the standard deviation of the temperature lists (ºC and ºF). What is the relation between both standard deviations?"
   ]
  },
  {
   "cell_type": "code",
   "execution_count": 13,
   "metadata": {},
   "outputs": [
    {
     "name": "stdout",
     "output_type": "stream",
     "text": [
      "The average temperature of the day is: 14.633485192833897 °C\n",
      "The average temperature of the day is: 26.34027334710101 °F\n"
     ]
    }
   ],
   "source": [
    "from numpy import std\n",
    "avg_std = std(X)\n",
    "print(\"The average temperature of the day is:\",avg_std, \"°C\")\n",
    "avg_std_F = std(F)\n",
    "print(\"The average temperature of the day is:\",avg_std_F, \"°F\")"
   ]
  },
  {
   "cell_type": "code",
   "execution_count": null,
   "metadata": {},
   "outputs": [],
   "source": []
  }
 ],
 "metadata": {
  "kernelspec": {
   "display_name": "Python 3",
   "language": "python",
   "name": "python3"
  },
  "language_info": {
   "codemirror_mode": {
    "name": "ipython",
    "version": 3
   },
   "file_extension": ".py",
   "mimetype": "text/x-python",
   "name": "python",
   "nbconvert_exporter": "python",
   "pygments_lexer": "ipython3",
   "version": "3.7.6"
  }
 },
 "nbformat": 4,
 "nbformat_minor": 2
}
