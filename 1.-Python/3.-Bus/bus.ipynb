{
 "cells": [
  {
   "cell_type": "markdown",
   "metadata": {},
   "source": [
    "<img src=\"https://bit.ly/2VnXWr2\" width=\"100\" align=\"left\">"
   ]
  },
  {
   "cell_type": "markdown",
   "metadata": {},
   "source": [
    "# Bus\n",
    "\n",
    "This bus has a passenger entry and exit control system to monitor the number of occupants it carries and thus detect when there are too many.\n",
    "\n",
    "At each stop, the entry and exit of passengers is represented by a tuple consisting of two integer numbers.\n",
    "```\n",
    "bus_stop = (in, out)\n",
    "```\n",
    "The succession of stops is represented by a list of these tuples.\n",
    "```\n",
    "stops = [(in1, out1), (in2, out2), (in3, out3), (in4, out4)]\n",
    "```\n",
    "\n",
    "## Tools\n",
    "You don't necessarily need to use all the tools. Maybe you opt to use some of them or completely different ones, they are given to help you shape the exercise. Programming exercises can be solved in many different ways.\n",
    "* Data structures: **lists, tuples**\n",
    "* Loop: **while/for loops**\n",
    "* Functions: **min, max, len**\n",
    "\n",
    "## Tasks"
   ]
  },
  {
   "cell_type": "code",
   "execution_count": 2,
   "metadata": {},
   "outputs": [],
   "source": [
    "# Variables\n",
    "stops = [(10, 0), (4, 1), (3, 5), (3, 4), (5, 1), (1, 5), (5, 8), (4, 6), (2, 3)]"
   ]
  },
  {
   "cell_type": "markdown",
   "metadata": {},
   "source": [
    "#### 1. Calculate the number of stops."
   ]
  },
  {
   "cell_type": "code",
   "execution_count": 3,
   "metadata": {},
   "outputs": [
    {
     "name": "stdout",
     "output_type": "stream",
     "text": [
      "Total number of stops are 9\n"
     ]
    }
   ],
   "source": [
    "print(\"Total number of stops are\",len(stops))"
   ]
  },
  {
   "cell_type": "markdown",
   "metadata": {},
   "source": [
    "#### 2. Assign to a variable a list whose elements are the number of passengers at each stop (in-out).\n",
    "Each item depends on the previous item in the list + in - out."
   ]
  },
  {
   "cell_type": "code",
   "execution_count": 4,
   "metadata": {},
   "outputs": [
    {
     "name": "stdout",
     "output_type": "stream",
     "text": [
      "Bus capacity: 10\n",
      "Number of stops: 1\n",
      "Bus capacity: 13\n",
      "Number of stops: 2\n",
      "Bus capacity: 11\n",
      "Number of stops: 3\n",
      "Bus capacity: 10\n",
      "Number of stops: 4\n",
      "Bus capacity: 14\n",
      "Number of stops: 5\n",
      "Bus capacity: 10\n",
      "Number of stops: 6\n",
      "Bus capacity: 7\n",
      "Number of stops: 7\n",
      "Bus capacity: 5\n",
      "Number of stops: 8\n",
      "Bus capacity: 4\n",
      "Number of stops: 9\n",
      "Bus capacity: 4\n",
      "Number of stops: 9\n"
     ]
    }
   ],
   "source": [
    "bus_capacity = 0\n",
    "num_stops = 0\n",
    "for on, off in stops:\n",
    "    bus_capacity += on - off\n",
    "    num_stops += 1\n",
    "    print(\"Bus capacity:\", bus_capacity)\n",
    "    print(\"Number of stops:\",num_stops)\n",
    "    if bus_capacity > 100:\n",
    "       break\n",
    "print(\"Bus capacity:\", bus_capacity)\n",
    "print(\"Number of stops:\",num_stops)"
   ]
  },
  {
   "cell_type": "markdown",
   "metadata": {},
   "source": [
    "#### 3. Find the maximum occupation of the bus."
   ]
  },
  {
   "cell_type": "code",
   "execution_count": 57,
   "metadata": {},
   "outputs": [
    {
     "name": "stdout",
     "output_type": "stream",
     "text": [
      "Max occupation of the bus are 14\n"
     ]
    }
   ],
   "source": [
    "#print(max(stops))\n",
    "bus_capacity = 0\n",
    "num_stops = 0\n",
    "for on, off in stops:\n",
    "    last = bus_capacity\n",
    "    bus_capacity += on - off\n",
    "    num_stops += 1\n",
    "    if bus_capacity > last:\n",
    "        largest = bus_capacity\n",
    "print(\"Max occupation of the bus are\", largest)"
   ]
  },
  {
   "cell_type": "markdown",
   "metadata": {},
   "source": [
    "#### 4. Calculate the average occupation. And the standard deviation."
   ]
  },
  {
   "cell_type": "code",
   "execution_count": 6,
   "metadata": {},
   "outputs": [
    {
     "name": "stdout",
     "output_type": "stream",
     "text": [
      "3.888888888888889\n"
     ]
    }
   ],
   "source": [
    "from numpy import mean\n",
    "print(mean(stops))"
   ]
  },
  {
   "cell_type": "code",
   "execution_count": 7,
   "metadata": {},
   "outputs": [
    {
     "name": "stdout",
     "output_type": "stream",
     "text": [
      "2.4695678634325406\n"
     ]
    }
   ],
   "source": [
    "from numpy import std\n",
    "print(std(stops))"
   ]
  },
  {
   "cell_type": "code",
   "execution_count": null,
   "metadata": {},
   "outputs": [],
   "source": []
  }
 ],
 "metadata": {
  "kernelspec": {
   "display_name": "Python 3",
   "language": "python",
   "name": "python3"
  },
  "language_info": {
   "codemirror_mode": {
    "name": "ipython",
    "version": 3
   },
   "file_extension": ".py",
   "mimetype": "text/x-python",
   "name": "python",
   "nbconvert_exporter": "python",
   "pygments_lexer": "ipython3",
   "version": "3.7.6"
  }
 },
 "nbformat": 4,
 "nbformat_minor": 2
}
